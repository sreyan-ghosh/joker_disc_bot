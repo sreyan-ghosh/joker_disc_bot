{
  "nbformat": 4,
  "nbformat_minor": 0,
  "metadata": {
    "colab": {
      "name": "joker_discBot.ipynb",
      "provenance": []
    },
    "kernelspec": {
      "name": "python3",
      "display_name": "Python 3"
    },
    "language_info": {
      "name": "python"
    }
  },
  "cells": [
    {
      "cell_type": "code",
      "metadata": {
        "id": "VD-tU55tGQNg"
      },
      "source": [
        "import re, os\n",
        "import pandas as pd\n",
        "from google.colab import drive"
      ],
      "execution_count": null,
      "outputs": []
    },
    {
      "cell_type": "code",
      "metadata": {
        "colab": {
          "base_uri": "https://localhost:8080/"
        },
        "id": "H1lIqYoxGeYj",
        "outputId": "b34c7205-33bb-4060-df70-969a9f3b3465"
      },
      "source": [
        "drive.mount('/content/drive')\n",
        "os.chdir('/content/drive/My Drive')"
      ],
      "execution_count": null,
      "outputs": [
        {
          "output_type": "stream",
          "text": [
            "Mounted at /content/drive\n"
          ],
          "name": "stdout"
        }
      ]
    },
    {
      "cell_type": "code",
      "metadata": {
        "id": "QQryFHZOGtmB"
      },
      "source": [
        "os.chdir('./joker_disc_bot')"
      ],
      "execution_count": null,
      "outputs": []
    },
    {
      "cell_type": "code",
      "metadata": {
        "id": "QkRCOEGlG1sB"
      },
      "source": [
        "pattern = r'(^[a-zA-z]+):(.+)'"
      ],
      "execution_count": null,
      "outputs": []
    },
    {
      "cell_type": "code",
      "metadata": {
        "id": "qs8p_aUsHAnX"
      },
      "source": [
        "data = {\n",
        "    'name': [],\n",
        "    'line': [],\n",
        "}"
      ],
      "execution_count": null,
      "outputs": []
    },
    {
      "cell_type": "code",
      "metadata": {
        "id": "vJhihWh6Hr3U"
      },
      "source": [
        "with open('darknight_transcript.txt') as f:\n",
        "    for line in f.readlines():\n",
        "        match = re.findall(pattern, line)\n",
        "        if match:\n",
        "            name, line = match[0]\n",
        "            data['name'].append(name)\n",
        "            data['line'].append(line)"
      ],
      "execution_count": null,
      "outputs": []
    },
    {
      "cell_type": "code",
      "metadata": {
        "colab": {
          "base_uri": "https://localhost:8080/",
          "height": 203
        },
        "id": "TlQGMTd1ILvR",
        "outputId": "79ed0a1a-6359-40d3-9a42-873aaba1ed4b"
      },
      "source": [
        "df = pd.DataFrame(data)\n",
        "df.head()"
      ],
      "execution_count": null,
      "outputs": [
        {
          "output_type": "execute_result",
          "data": {
            "text/html": [
              "<div>\n",
              "<style scoped>\n",
              "    .dataframe tbody tr th:only-of-type {\n",
              "        vertical-align: middle;\n",
              "    }\n",
              "\n",
              "    .dataframe tbody tr th {\n",
              "        vertical-align: top;\n",
              "    }\n",
              "\n",
              "    .dataframe thead th {\n",
              "        text-align: right;\n",
              "    }\n",
              "</style>\n",
              "<table border=\"1\" class=\"dataframe\">\n",
              "  <thead>\n",
              "    <tr style=\"text-align: right;\">\n",
              "      <th></th>\n",
              "      <th>name</th>\n",
              "      <th>line</th>\n",
              "    </tr>\n",
              "  </thead>\n",
              "  <tbody>\n",
              "    <tr>\n",
              "      <th>0</th>\n",
              "      <td>Grumpy</td>\n",
              "      <td>(while driving) Three of a kind, let's do this.</td>\n",
              "    </tr>\n",
              "    <tr>\n",
              "      <th>1</th>\n",
              "      <td>Chuckles</td>\n",
              "      <td>That's it? Three guys?</td>\n",
              "    </tr>\n",
              "    <tr>\n",
              "      <th>2</th>\n",
              "      <td>Grumpy</td>\n",
              "      <td>Two guys on the roof. Every guy gets a share....</td>\n",
              "    </tr>\n",
              "    <tr>\n",
              "      <th>3</th>\n",
              "      <td>Chuckles</td>\n",
              "      <td>Six shares. Don't forget the guy who planned ...</td>\n",
              "    </tr>\n",
              "    <tr>\n",
              "      <th>4</th>\n",
              "      <td>Grumpy</td>\n",
              "      <td>(scoffing) He thinks he can sit it out and st...</td>\n",
              "    </tr>\n",
              "  </tbody>\n",
              "</table>\n",
              "</div>"
            ],
            "text/plain": [
              "       name                                               line\n",
              "0    Grumpy    (while driving) Three of a kind, let's do this.\n",
              "1  Chuckles                             That's it? Three guys?\n",
              "2    Grumpy   Two guys on the roof. Every guy gets a share....\n",
              "3  Chuckles   Six shares. Don't forget the guy who planned ...\n",
              "4    Grumpy   (scoffing) He thinks he can sit it out and st..."
            ]
          },
          "metadata": {},
          "execution_count": 18
        }
      ]
    },
    {
      "cell_type": "code",
      "metadata": {
        "colab": {
          "base_uri": "https://localhost:8080/"
        },
        "id": "_BVVb-n1IPSb",
        "outputId": "bf166c91-c6fd-4fd1-ae7a-53d26cc31611"
      },
      "source": [
        "sum(df['name'] == 'Joker')"
      ],
      "execution_count": null,
      "outputs": [
        {
          "output_type": "execute_result",
          "data": {
            "text/plain": [
              "145"
            ]
          },
          "metadata": {},
          "execution_count": 19
        }
      ]
    },
    {
      "cell_type": "code",
      "metadata": {
        "id": "IUWC_ArHIxPn"
      },
      "source": [
        "df.to_csv('joker.csv', index=False)"
      ],
      "execution_count": null,
      "outputs": []
    },
    {
      "cell_type": "code",
      "metadata": {
        "id": "AhWRu11LI6XF"
      },
      "source": [
        ""
      ],
      "execution_count": null,
      "outputs": []
    }
  ]
}